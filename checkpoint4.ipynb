{
 "cells": [
  {
   "cell_type": "raw",
   "id": "5711f827",
   "metadata": {},
   "source": [
    "Question 1\n",
    "\n",
    "Write a Python function to find the Max of three numbers.\n",
    "\n",
    "for example, the max of these three numbers 20, 35, 19 is 35"
   ]
  },
  {
   "cell_type": "code",
   "execution_count": null,
   "id": "54781cde",
   "metadata": {},
   "outputs": [],
   "source": [
    "def the_max (x,y,z):\n",
    "    if x>y and x>z:\n",
    "        return x\n",
    "    elif x>y and x<z:\n",
    "        return z\n",
    "    elif x<y and y<z:\n",
    "        return z\n",
    "    else :\n",
    "        return y\n",
    "print (the_max(20,35,19))\n"
   ]
  },
  {
   "cell_type": "raw",
   "id": "e786f431",
   "metadata": {},
   "source": [
    "Write a function calculation() such that it can accept two variables and calculate the addition and subtraction of it. And also it must return both addition and subtraction in a single return call\n",
    "\n",
    "For example:\n",
    "\n",
    "calculation(40, 10) should produce 50, 30\n"
   ]
  },
  {
   "cell_type": "code",
   "execution_count": null,
   "id": "e517ca8b",
   "metadata": {},
   "outputs": [],
   "source": [
    "def calculation(a,b):\n",
    "    add = a+b\n",
    "    sous =a-b    \n",
    "    return  add , sous\n",
    "   \n",
    "print(calculation(40,10))"
   ]
  },
  {
   "cell_type": "raw",
   "id": "701521a1",
   "metadata": {},
   "source": [
    "* Write a function that sums the elements of a list of integers.\n",
    "* Write a function that multiplies the elements of an integer list.\n",
    "* Use the two functions to sum the elements whose position is an even number (0,2,4…) and multiply the rest.\n",
    "Hint: Consider extracting two lists from a first list "
   ]
  },
  {
   "cell_type": "code",
   "execution_count": 133,
   "id": "ddc5d134",
   "metadata": {},
   "outputs": [
    {
     "name": "stdout",
     "output_type": "stream",
     "text": [
      "Even lists: [2, 4, 6, 8]\n",
      "Odd lists: [1, 3, 5, 7, 9]\n",
      "somme 20\n",
      "multiplication 945\n"
     ]
    }
   ],
   "source": [
    "A=[1,2,3,4,5,6,7,8,9]\n",
    "evenlist = [] \n",
    "oddlist = [] \n",
    "for i in A: \n",
    "    if (i % 2 == 0): \n",
    "        evenlist.append(i) \n",
    "    else: \n",
    "        oddlist.append(i) \n",
    "print(\"Even lists:\", evenlist) \n",
    "print(\"Odd lists:\", oddlist)\n",
    "def somme (evenlist):\n",
    "    s =0\n",
    "    for k in evenlist:\n",
    "        s+=k\n",
    "    return(s)\n",
    "print (\"somme\",somme(evenlist))\n",
    "def mult (oddlist):\n",
    "    n =1\n",
    "    for j in oddlist:\n",
    "        n*=j\n",
    "    return(n)\n",
    "print (\"multiplication\",mult(oddlist))\n"
   ]
  },
  {
   "cell_type": "markdown",
   "id": "0a2040e3",
   "metadata": {},
   "source": [
    "in the past exercice i wanted to divide A list with a function named divide but i failed, if we have time we can check it together next session \n",
    "thank you"
   ]
  },
  {
   "cell_type": "raw",
   "id": "ba32087a",
   "metadata": {},
   "source": [
    "Write a Python program that accepts a hyphen-separated sequence of words as input and prints the words in a hyphen-separated sequence after sorting them alphabetically.\n",
    "\n",
    "Sample Items : green-red-yellow-black-white\n",
    "Expected Result : black-green-red-white-yellow\n",
    "\n",
    "Hint : There's a split function to separate your input string into words and a sort function to sort"
   ]
  },
  {
   "cell_type": "code",
   "execution_count": null,
   "id": "8181f66c",
   "metadata": {},
   "outputs": [],
   "source": [
    "n=input(\"enter the string: \") \n",
    "l=n.split('-') \n",
    "l.sort() \n",
    "print('-'.join(l))"
   ]
  },
  {
   "cell_type": "raw",
   "id": "2966d368",
   "metadata": {},
   "source": [
    "Write a function that calculates and prints the value according to the given formula: Q = Square root of [(2 * C * D)/H] Following are the fixed values of C and H: C is 50. H is 30. D is the variable whose values should be input to your program in a comma-separated sequence. Example Let us assume the following comma separated input sequence is given to the function: 100,150,180 The output of the program should be: 18,22,24 \n",
    "\n",
    "Hints: If the output received is in decimal form, it should be rounded off to its nearest value (for example, if the output received is 26.0, it should be printed as 26) In case of input data being supplied to the question, it should be assumed to be a console input. "
   ]
  },
  {
   "cell_type": "code",
   "execution_count": 168,
   "id": "5b609a4e",
   "metadata": {},
   "outputs": [
    {
     "name": "stdout",
     "output_type": "stream",
     "text": [
      "how many numbers do you have ??3\n",
      "enter your numbers100\n",
      "enter your numbers150\n",
      "enter your numbers122\n",
      "[100, 150, 122]\n",
      "[18, 22, 20]\n",
      "2.0\n"
     ]
    }
   ],
   "source": [
    "number_list=[]\n",
    "n= int(input(\"how many numbers ??\"))\n",
    "\n",
    "for i in range (0,n):\n",
    "    ele=(int(input(\"enter your numbers\")))\n",
    "    number_list.append(ele)\n",
    "print(number_list)\n",
    "import math\n",
    "new=[]\n",
    "def myfunc(number_list):\n",
    "    for k in number_list:\n",
    "        q= int(math.sqrt(2*50*k/30))\n",
    "        new.append(q)\n",
    "    return (new)\n",
    "\n",
    "    \n",
    "print(myfunc(number_list))\n",
    "\n",
    "    \n"
   ]
  },
  {
   "cell_type": "code",
   "execution_count": null,
   "id": "8378b0ed",
   "metadata": {},
   "outputs": [],
   "source": []
  }
 ],
 "metadata": {
  "kernelspec": {
   "display_name": "Python 3 (ipykernel)",
   "language": "python",
   "name": "python3"
  },
  "language_info": {
   "codemirror_mode": {
    "name": "ipython",
    "version": 3
   },
   "file_extension": ".py",
   "mimetype": "text/x-python",
   "name": "python",
   "nbconvert_exporter": "python",
   "pygments_lexer": "ipython3",
   "version": "3.9.7"
  }
 },
 "nbformat": 4,
 "nbformat_minor": 5
}
