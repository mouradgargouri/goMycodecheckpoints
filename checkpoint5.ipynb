{
 "cells": [
  {
   "cell_type": "code",
   "execution_count": 13,
   "id": "9b0bdfdb",
   "metadata": {},
   "outputs": [],
   "source": [
    "import math"
   ]
  },
  {
   "cell_type": "markdown",
   "id": "d544aace",
   "metadata": {},
   "source": [
    "Write a python class named Point3D defined by x, y, and z. Define a method that returns (x, y ,z). This tells Python to represent this object in the following format: (x, y, z). Then create a variable named my_point containing a new instance of Point3D with x=1, y=2, and z=3 and print it."
   ]
  },
  {
   "cell_type": "code",
   "execution_count": 3,
   "id": "d29ea0fa",
   "metadata": {},
   "outputs": [
    {
     "name": "stdout",
     "output_type": "stream",
     "text": [
      "(1, 2, 3)\n"
     ]
    }
   ],
   "source": [
    "class Point3D:\n",
    "\n",
    "    def __init__(self,x, y, z):\n",
    "        self.x = x\n",
    "        self.y = y\n",
    "        self.z = z\n",
    "        #this is not my idea and i didn't understand it\n",
    "    def __repr__(self):\n",
    "        return \"(%d, %d, %d)\" % (self.x, self.y, self.z)\n",
    "my_point = Point3D(1,2,3)\n",
    "print(my_point)"
   ]
  },
  {
   "cell_type": "markdown",
   "id": "f89f9607",
   "metadata": {},
   "source": [
    "Write a Python class named Rectangle constructed by a length and width. Define two methods area and perimeter which will compute the area and the perimeter of the rectangle. Then create a variable named my_rectangle containing a new instance of Rectangle with width=3 and length = 4 and compute both of area and perimeter ( the area is expected to be 3*4=12 and perimeter 2*(3+4)=14)\n"
   ]
  },
  {
   "cell_type": "code",
   "execution_count": 43,
   "id": "66df3d7e",
   "metadata": {},
   "outputs": [
    {
     "name": "stdout",
     "output_type": "stream",
     "text": [
      "3\n",
      "4\n",
      "12\n",
      "14\n"
     ]
    }
   ],
   "source": [
    "class Rectangle:\n",
    "    \n",
    "    def __init__(self,length,width):\n",
    "        self.length=length\n",
    "        self.width=width\n",
    "    def area(self,length,width):\n",
    "        return length*width\n",
    "    def perimeter(self,length,width):\n",
    "        return 2*(length+width)\n",
    "    \n",
    "blu = Rectangle(3,4)\n",
    "print(blu.length)\n",
    "print(blu.width)\n",
    "print (blu.area(3,4))\n",
    "print(blu.perimeter(3,4))"
   ]
  },
  {
   "cell_type": "markdown",
   "id": "3d452295",
   "metadata": {},
   "source": [
    "Write a Python  class named Circle constructed by its center O and radius r. Define two methods area and perimeter which will compute the area and the perimeter of the circle, and isInside() method of the class which allows to test whether a point A(x, y) belongs to the circle C(O, r) or not."
   ]
  },
  {
   "cell_type": "code",
   "execution_count": 18,
   "id": "00e1abf6",
   "metadata": {},
   "outputs": [
    {
     "name": "stdout",
     "output_type": "stream",
     "text": [
      "25.132741228718345\n",
      "50.26548245743669\n"
     ]
    }
   ],
   "source": [
    "class Circle:\n",
    "    def __init__(self,O,r):\n",
    "        self.O=O\n",
    "        self.r=r\n",
    "    def area(self,O,r):\n",
    "        return 2*math.pi*r\n",
    "    def perimeter(self,O,r):\n",
    "        return math.pi*r*r\n",
    "C=Circle(5,4)\n",
    "print (C.area(5,4))\n",
    "print(C.perimeter(5,4))\n"
   ]
  },
  {
   "cell_type": "markdown",
   "id": "f96fd9d0",
   "metadata": {},
   "source": [
    "Suppose we want to model a bank account with support for deposit and withdraw operations. Let’s create a python class named bank defined by its balance. Define two methods deposit and withdraw to compute the new amount of each operation."
   ]
  },
  {
   "cell_type": "code",
   "execution_count": 29,
   "id": "4a4793f4",
   "metadata": {},
   "outputs": [
    {
     "name": "stdout",
     "output_type": "stream",
     "text": [
      "Enter amount to be Deposited: 3232\n",
      "Amount Deposited: 3232.0\n",
      "Enter amount to be Withdrawn: 333333\n",
      "\n",
      " Insufficient balance  \n",
      "\n",
      " Net Available Balance= 3232.0\n"
     ]
    }
   ],
   "source": [
    "class bank:\n",
    "    def __init__(self):\n",
    "        self.balance=0\n",
    "    def deposit(self):\n",
    "        amount=float(input(\"Enter amount to be Deposited: \"))\n",
    "        self.balance += amount\n",
    "        print(\"Amount Deposited:\",amount) \n",
    "    def withdraw(self):\n",
    "        amount = float(input(\"Enter amount to be Withdrawn: \"))\n",
    "        if self.balance>=amount:\n",
    "            self.balance-=amount\n",
    "            print(\"\\n You Withdrew:\", amount)\n",
    "        else:\n",
    "            print(\"\\n Insufficient balance  \") \n",
    "    def display(self):\n",
    "        print(\"\\n Net Available Balance=\",self.balance)\n",
    "s = bank()\n",
    "s.deposit()\n",
    "s.withdraw()\n",
    "s.display()"
   ]
  },
  {
   "cell_type": "code",
   "execution_count": null,
   "id": "612b7fff",
   "metadata": {},
   "outputs": [],
   "source": []
  },
  {
   "cell_type": "code",
   "execution_count": null,
   "id": "41d2b868",
   "metadata": {},
   "outputs": [],
   "source": []
  }
 ],
 "metadata": {
  "kernelspec": {
   "display_name": "Python 3 (ipykernel)",
   "language": "python",
   "name": "python3"
  },
  "language_info": {
   "codemirror_mode": {
    "name": "ipython",
    "version": 3
   },
   "file_extension": ".py",
   "mimetype": "text/x-python",
   "name": "python",
   "nbconvert_exporter": "python",
   "pygments_lexer": "ipython3",
   "version": "3.9.7"
  }
 },
 "nbformat": 4,
 "nbformat_minor": 5
}
